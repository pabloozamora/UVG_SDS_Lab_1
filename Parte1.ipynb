{
 "cells": [
  {
   "cell_type": "markdown",
   "metadata": {},
   "source": [
    "# Laboratorio 1\n",
    "Universidad del Valle de Guatemala<br>\n",
    "Cifrado de Información<br>\n",
    "Pablo Andrés Zamora Vásquez<br>\n",
    "Carné 21780\n",
    "<br><br>\n",
    "<hr>"
   ]
  },
  {
   "cell_type": "markdown",
   "metadata": {},
   "source": [
    "## Parte 1 - Ingeniería de características"
   ]
  },
  {
   "cell_type": "markdown",
   "metadata": {},
   "source": [
    "### Exploración de datos"
   ]
  },
  {
   "cell_type": "code",
   "execution_count": 4,
   "metadata": {},
   "outputs": [
    {
     "name": "stdout",
     "output_type": "stream",
     "text": [
      "                                                 url      status\n",
      "0              http://www.crestonwood.com/router.php  legitimate\n",
      "1  http://shadetreetechnology.com/V4/validation/a...    phishing\n",
      "2  https://support-appleld.com.secureupdate.duila...    phishing\n",
      "3                                 http://rgipt.ac.in  legitimate\n",
      "4  http://www.iracing.com/tracks/gateway-motorspo...  legitimate\n"
     ]
    }
   ],
   "source": [
    "# 1. Cargue el dataset en un dataframe de pandas, muestre un ejemplo de cinco observaciones\n",
    "\n",
    "import pandas as pd\n",
    "\n",
    "df = pd.read_csv('dataset_phishing.csv')\n",
    "\n",
    "print(df.head(5))"
   ]
  },
  {
   "cell_type": "code",
   "execution_count": 5,
   "metadata": {},
   "outputs": [
    {
     "name": "stdout",
     "output_type": "stream",
     "text": [
      "status\n",
      "legitimate    5715\n",
      "phishing      5715\n",
      "Name: count, dtype: int64\n"
     ]
    }
   ],
   "source": [
    "# 2. Muestre la cantidad de observaciones etiquetadas en la columna status como “legit” y como “phishing”. ¿Está balanceado el dataset?\n",
    "\n",
    "print(df['status'].value_counts())"
   ]
  },
  {
   "cell_type": "markdown",
   "metadata": {},
   "source": [
    "Sí, el dataset está balanceado. Tiene la misma cantidad de registros legítimos y de phishing."
   ]
  },
  {
   "cell_type": "markdown",
   "metadata": {},
   "source": [
    "### Derivación de características"
   ]
  },
  {
   "cell_type": "markdown",
   "metadata": {},
   "source": [
    "1. ¿Qué ventajas tiene el análisis de una URL contra el análisis de otros datos, cómo el tiempo\n",
    "de vida del dominio, o las características de la página Web?\n",
    "\n",
    "El análisis de una URL presenta varias ventajas al compararlo con el análisis de listas negras (\"blacklists\"), el análisis de contenido, el análisis de vida útil del dominio o el análisis de similaridades entre sitios maliciosos y sitios legítimos. Entre ellas:\n",
    "\n",
    "- **Detección en tiempo real:** El análisis de URLs permite identificar sitios de phishing desde el momento de su creación, ya que se basa completamente en el análisis estadístico de la URL de un sitio para determinar si es malicioso. Esto lo hace mucho más efectivo contra amenazas de cero horas (\"zero-hour threats\"); es decir, aquellas amenazas que no se hayan visto antes y, por lo tanto, no son conocidas por una firma de malware \n",
    "\n",
    "- **Independencia de terceros:** Como se mencionó antes, el análisis de URLs es independiente; es decir, no depende de bases de datos externas, como listas negras o servicios de reputación de domino para determinar si un sitio es malicioso o no, lo que lo hace más rápido y autónomo.\n",
    "\n",
    "- **Menor consumo de recursos:** Dado que este análisis se basa únicamente en las URLs de sitios, no necesita realizar consultas externas, por ejemplo, para obtener el contenido de la página. Esto reduce considerablemente el tiempo de procesamiento.\n",
    "\n",
    "- **A prueba de técnicas de evasión:** Los responsables de un sitio malicioso pueden modificar fácilmente su contenido para evadir la detección basada en características sospechosas de una página web, pero es más laborioso cambiar los patrones de las URLs sin afectar su funcionalidad.\n",
    "\n",
    "- **Indiferente del lenguaje:** La efectividad de este análisis no se ve afectada por el idioma del contenido del sitio, ya que únicamente trabaja con la estructura de la URL.\n",
    "\n",
    "(URL-based Phishing Detection using the Entropy of NonAlphanumeric Characters)<br>\n",
    "(Machine learning based phishing detection from URLs)\n",
    "<hr>"
   ]
  },
  {
   "cell_type": "markdown",
   "metadata": {},
   "source": [
    "2. ¿Qué características de una URL son más prometedoras para la detección de phishing?\n",
    "\n",
    "Algunas características que podrían ser de utilidad en el análisis y clasificación de URLs son:\n",
    "\n",
    "- **Longitud de la URL:** Las URLs maliciosas tienden a ser más largas que las URLs legítimas, esto podría deberse a que diferentes DGAs utilizan nombres de dominios legítimos para incluir en la URL generada. Por ejemplo googlexyz.com.\n",
    "\n",
    "- **Cantidad de caracteres especiales:** Caracteres especiales como \"@\", \"_\", \"?\" suelen presentarse con más frecuencia en URLs maliciosas.\n",
    "\n",
    "- **Cantidad de subdominios presentes en la URL:** Una cantidad elevada de subdominios presentes en la URL puede ser un indicador de phishing. Por ejemplo: login.bank.website.xyz.com.\n",
    "\n",
    "- **Uso de direcciones IP en lugar de nombres de dominio:** Las URLs maliciosas a menudo utilizan una IP pública en lugar de un nombre de dominio legible.\n",
    "\n",
    "- **Número de redirecciones:** Las URLs que indican redirecciones a otros sitios suelen ser sospechosas.\n",
    "\n",
    "- **Uso de HTTPS:** Muchas direcciones de phishing utilizan encriptado HTTPS para dar confianza al usuario, a pesar de que esto no implica que el uso que haga el sitio de su información se legítimo.\n",
    "\n",
    "- **Cantidad de directorios en la ruta:** Un número alto de directorios en la URL puede ser un indicador de phishing.\n",
    "\n",
    "- **Uso de acortadores:** El uso de servicios como *bit.ly* o *tinyurl.com* pueden utilizarse para ocultar la verdadera dirección del sitio.\n",
    "\n",
    "- **Cantidad de caracteres repetidos:** Una gran cantidad de caracteres repetidos en la URL puede ser sospechoso.\n",
    "\n",
    "- **Uso de símbolos engañosos:** Caracteres como \"@\" en una URL pueden indicar intentos de suplantación de identidad o *spoofing*.\n",
    "\n",
    "- **Cantidad de parámetros en la URL:** Una cantidad excesiva de parámetros en la cadena de consulta puede ser una señal de phishing.\n",
    "\n",
    "- **Frecuencia de caracteres no-alfanuméricos:** La distribución de caracteres no alfanuméricos puede ser un indicador distintivo entre URLs legítimas y maliciosas.\n",
    "\n",
    "- **Entropía de Shannon:** La entropía mide el nivel de desorden en la URL, y las URLs de phishing suelen tener una entropía mayor.\n",
    "\n",
    "- **Entropía relativa:** Permite comparar la entropía de una URL con la entropía promedio de URLs legítimas y maliciosas para mejorar la detección."
   ]
  }
 ],
 "metadata": {
  "kernelspec": {
   "display_name": "Python 3",
   "language": "python",
   "name": "python3"
  },
  "language_info": {
   "codemirror_mode": {
    "name": "ipython",
    "version": 3
   },
   "file_extension": ".py",
   "mimetype": "text/x-python",
   "name": "python",
   "nbconvert_exporter": "python",
   "pygments_lexer": "ipython3",
   "version": "3.11.7"
  }
 },
 "nbformat": 4,
 "nbformat_minor": 2
}
