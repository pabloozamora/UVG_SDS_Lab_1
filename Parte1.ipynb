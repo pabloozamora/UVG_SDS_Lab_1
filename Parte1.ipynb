{
 "cells": [
  {
   "cell_type": "markdown",
   "metadata": {},
   "source": [
    "# Laboratorio 1\n",
    "Universidad del Valle de Guatemala<br>\n",
    "Cifrado de Información<br>\n",
    "Pablo Andrés Zamora Vásquez<br>\n",
    "Carné 21780\n",
    "<br><br>\n",
    "<hr>"
   ]
  },
  {
   "cell_type": "markdown",
   "metadata": {},
   "source": [
    "## Parte 1 - Ingeniería de características"
   ]
  },
  {
   "cell_type": "markdown",
   "metadata": {},
   "source": [
    "### Exploración de datos"
   ]
  },
  {
   "cell_type": "code",
   "execution_count": 63,
   "metadata": {},
   "outputs": [
    {
     "name": "stdout",
     "output_type": "stream",
     "text": [
      "                                                 url      status\n",
      "0              http://www.crestonwood.com/router.php  legitimate\n",
      "1  http://shadetreetechnology.com/V4/validation/a...    phishing\n",
      "2  https://support-appleld.com.secureupdate.duila...    phishing\n",
      "3                                 http://rgipt.ac.in  legitimate\n",
      "4  http://www.iracing.com/tracks/gateway-motorspo...  legitimate\n"
     ]
    }
   ],
   "source": [
    "# 1. Cargue el dataset en un dataframe de pandas, muestre un ejemplo de cinco observaciones\n",
    "\n",
    "import pandas as pd\n",
    "\n",
    "df = pd.read_csv('dataset_phishing.csv')\n",
    "\n",
    "print(df.head(5))"
   ]
  },
  {
   "cell_type": "code",
   "execution_count": 64,
   "metadata": {},
   "outputs": [
    {
     "name": "stdout",
     "output_type": "stream",
     "text": [
      "status\n",
      "legitimate    5715\n",
      "phishing      5715\n",
      "Name: count, dtype: int64\n"
     ]
    }
   ],
   "source": [
    "# 2. Muestre la cantidad de observaciones etiquetadas en la columna status como “legit” y como “phishing”. ¿Está balanceado el dataset?\n",
    "\n",
    "print(df['status'].value_counts())"
   ]
  },
  {
   "cell_type": "markdown",
   "metadata": {},
   "source": [
    "Sí, el dataset está balanceado. Tiene la misma cantidad de registros legítimos y de phishing."
   ]
  },
  {
   "cell_type": "markdown",
   "metadata": {},
   "source": [
    "### Derivación de características"
   ]
  },
  {
   "cell_type": "markdown",
   "metadata": {},
   "source": [
    "1. ¿Qué ventajas tiene el análisis de una URL contra el análisis de otros datos, cómo el tiempo\n",
    "de vida del dominio, o las características de la página Web?\n",
    "\n",
    "El análisis de una URL presenta varias ventajas al compararlo con el análisis de listas negras (\"blacklists\"), el análisis de contenido, el análisis de vida útil del dominio o el análisis de similaridades entre sitios maliciosos y sitios legítimos. Entre ellas:\n",
    "\n",
    "- **Detección en tiempo real:** El análisis de URLs permite identificar sitios de phishing desde el momento de su creación, ya que se basa completamente en el análisis estadístico de la URL de un sitio para determinar si es malicioso. Esto lo hace mucho más efectivo contra amenazas de cero horas (\"zero-hour threats\"); es decir, aquellas amenazas que no se hayan visto antes y, por lo tanto, no son conocidas por una firma de malware \n",
    "\n",
    "- **Independencia de terceros:** Como se mencionó antes, el análisis de URLs es independiente; es decir, no depende de bases de datos externas, como listas negras o servicios de reputación de domino para determinar si un sitio es malicioso o no, lo que lo hace más rápido y autónomo.\n",
    "\n",
    "- **Menor consumo de recursos:** Dado que este análisis se basa únicamente en las URLs de sitios, no necesita realizar consultas externas, por ejemplo, para obtener el contenido de la página. Esto reduce considerablemente el tiempo de procesamiento.\n",
    "\n",
    "- **A prueba de técnicas de evasión:** Los responsables de un sitio malicioso pueden modificar fácilmente su contenido para evadir la detección basada en características sospechosas de una página web, pero es más laborioso cambiar los patrones de las URLs sin afectar su funcionalidad.\n",
    "\n",
    "- **Indiferente del lenguaje:** La efectividad de este análisis no se ve afectada por el idioma del contenido del sitio, ya que únicamente trabaja con la estructura de la URL.\n",
    "\n",
    "(URL-based Phishing Detection using the Entropy of NonAlphanumeric Characters)<br>\n",
    "(Machine learning based phishing detection from URLs)\n",
    "<hr>"
   ]
  },
  {
   "cell_type": "markdown",
   "metadata": {},
   "source": [
    "2. ¿Qué características de una URL son más prometedoras para la detección de phishing?\n",
    "\n",
    "Algunas características que podrían ser de utilidad en el análisis y clasificación de URLs son:\n",
    "\n",
    "- **Longitud de la URL:** Las URLs maliciosas tienden a ser más largas que las URLs legítimas, esto podría deberse a que diferentes DGAs utilizan nombres de dominios legítimos para incluir en la URL generada. Por ejemplo googlexyz.com.\n",
    "\n",
    "- **Cantidad de caracteres especiales:** Caracteres especiales como \"@\", \"_\", \"?\" suelen presentarse con más frecuencia en URLs maliciosas.\n",
    "\n",
    "- **Cantidad de subdominios presentes en la URL:** Una cantidad elevada de subdominios presentes en la URL puede ser un indicador de phishing. Por ejemplo: login.bank.website.xyz.com.\n",
    "\n",
    "- **Uso de direcciones IP en lugar de nombres de dominio:** Las URLs maliciosas a menudo utilizan una IP pública en lugar de un nombre de dominio legible.\n",
    "\n",
    "- **Número de redirecciones:** Las URLs que indican redirecciones a otros sitios suelen ser sospechosas.\n",
    "\n",
    "- **Uso de HTTPS:** Muchas direcciones de phishing utilizan encriptado HTTPS para dar confianza al usuario, a pesar de que esto no implica que el uso que haga el sitio de su información se legítimo.\n",
    "\n",
    "- **Cantidad de directorios en la ruta:** Un número alto de directorios en la URL puede ser un indicador de phishing.\n",
    "\n",
    "- **Uso de acortadores:** El uso de servicios como *bit.ly* o *tinyurl.com* pueden utilizarse para ocultar la verdadera dirección del sitio.\n",
    "\n",
    "- **Cantidad de caracteres repetidos:** Una gran cantidad de caracteres repetidos en la URL puede ser sospechoso.\n",
    "\n",
    "- **Uso de símbolos engañosos:** Caracteres como \"@\" en una URL pueden indicar intentos de suplantación de identidad o *spoofing*.\n",
    "\n",
    "- **Cantidad de parámetros en la URL:** Una cantidad excesiva de parámetros en la cadena de consulta puede ser una señal de phishing.\n",
    "\n",
    "- **Frecuencia de caracteres no-alfanuméricos:** La distribución de caracteres no alfanuméricos puede ser un indicador distintivo entre URLs legítimas y maliciosas.\n",
    "\n",
    "- **Entropía de Shannon:** La entropía mide el nivel de desorden en la URL, y las URLs de phishing suelen tener una entropía mayor.\n",
    "\n",
    "- **Entropía relativa:** Permite comparar la entropía de una URL con la entropía promedio de URLs legítimas y maliciosas para mejorar la detección.\n",
    "\n",
    "(URL-based Phishing Detection using the Entropy of NonAlphanumeric Characters)<br>\n",
    "(Machine learning based phishing detection from URLs)\n",
    "<hr>"
   ]
  },
  {
   "cell_type": "code",
   "execution_count": 65,
   "metadata": {},
   "outputs": [],
   "source": [
    "import re\n",
    "import math\n",
    "import urllib.parse\n",
    "from collections import Counter\n",
    "\n",
    "def url_length(url):\n",
    "    return len(url)\n",
    "\n",
    "def count_special_chars(url):\n",
    "    return sum(1 for c in url if not c.isalnum())\n",
    "\n",
    "def count_subdomains(url):\n",
    "    return url.count('.')\n",
    "\n",
    "def has_ip_address(url):\n",
    "    return bool(re.search(r'\\d+\\.\\d+\\.\\d+\\.\\d+', url))\n",
    "\n",
    "def count_redirects(url):\n",
    "    return url.count('//') - 1\n",
    "\n",
    "def has_https(url):\n",
    "    return url.startswith(\"https://\")\n",
    "\n",
    "def contains_suspicious_words(url):\n",
    "    suspicious_keywords = [\"secure\", \"account\", \"login\", \"verify\", \"bank\", \"update\"]\n",
    "    return any(word in url.lower() for word in suspicious_keywords)\n",
    "\n",
    "def count_directories(url):\n",
    "    return url.count('/')\n",
    "\n",
    "def uses_shortener(url):\n",
    "    shorteners = [\"bit.ly\", \"tinyurl\", \"goo.gl\"]\n",
    "    return any(shortener in url for shortener in shorteners)\n",
    "\n",
    "def count_repeated_chars(url):\n",
    "    return sum(1 for match in re.finditer(r'(.)\\1{2,}', url))\n",
    "\n",
    "def contains_at_symbol(url):\n",
    "    return '@' in url\n",
    "\n",
    "def count_query_params(url):\n",
    "    parsed_url = urllib.parse.urlparse(url)\n",
    "    return len(urllib.parse.parse_qs(parsed_url.query))\n",
    "\n",
    "def shannon_entropy(url):\n",
    "    prob = [ float(url.count(char)) / len(url) for char in dict.fromkeys(list(url)) ] \n",
    "    entropy = - sum([ p * math.log2(p) for p in prob ]) \n",
    "    return entropy\n",
    "\n",
    "def relative_entropy(url):\n",
    "    entropy = 0.0\n",
    "    length = len(url) * 1.0\n",
    "\n",
    "    if length > 0:\n",
    "        cnt = Counter(url)\n",
    "            \n",
    "        probabilities = {\n",
    "            '-': 0.013342298553905901,\n",
    "            '_': 9.04562613824129e-06,\n",
    "            '0': 0.0024875471880163543,\n",
    "            '1': 0.004884638114650296,\n",
    "            '2': 0.004373560237839663,\n",
    "            '3': 0.0021136613076357144,\n",
    "            '4': 0.001625197496170685,\n",
    "            '5': 0.0013070929769758662,\n",
    "            '6': 0.0014880054997406921,\n",
    "            '7': 0.001471421851820583,\n",
    "            '8': 0.0012663876593537805,\n",
    "            '9': 0.0010327089841158806,\n",
    "            'a': 0.07333590631143488,\n",
    "            'b': 0.04293204925644953,\n",
    "            'c': 0.027385633133525503,\n",
    "            'd': 0.02769469202658208,\n",
    "            'e': 0.07086192756262588,\n",
    "            'f': 0.01249653250998034,\n",
    "            'g': 0.038516276096631406,\n",
    "            'h': 0.024017645001386995,\n",
    "            'i': 0.060447396668797414,\n",
    "            'j': 0.007082725266242929,\n",
    "            'k': 0.01659570875496002,\n",
    "            'l': 0.05815885325582237,\n",
    "            'm': 0.033884915513851865,\n",
    "            'n': 0.04753175014774523,\n",
    "            'o': 0.09413783122067709,\n",
    "            'p': 0.042555148167356144,\n",
    "            'q': 0.0017231917793349655,\n",
    "            'r': 0.06460084667060655,\n",
    "            's': 0.07214640647425614,\n",
    "            't': 0.06447722311338391,\n",
    "            'u': 0.034792493336388744,\n",
    "            'v': 0.011637198026847418,\n",
    "            'w': 0.013318176884203925,\n",
    "            'x': 0.003170491961453572,\n",
    "            'y': 0.016381628936354975,\n",
    "            'z': 0.004715786426736459\n",
    "        }\n",
    "            \n",
    "        for char, count in cnt.items():\n",
    "            try:\n",
    "                observed = count / length\n",
    "                expected = probabilities.get(char, 0.0001)  # Asigna un valor mínimo en lugar de fallar\n",
    "                entropy += observed * math.log2(observed / expected)\n",
    "            except:\n",
    "                print(url)\n",
    "        return entropy\n"
   ]
  },
  {
   "cell_type": "markdown",
   "metadata": {},
   "source": [
    "### Preprocesamiento"
   ]
  },
  {
   "cell_type": "code",
   "execution_count": 66,
   "metadata": {},
   "outputs": [
    {
     "name": "stdout",
     "output_type": "stream",
     "text": [
      "status\n",
      "0    5715\n",
      "1    5715\n",
      "Name: count, dtype: int64\n",
      "                                                 url  status  \\\n",
      "0              http://www.crestonwood.com/router.php       0   \n",
      "1  http://shadetreetechnology.com/V4/validation/a...       1   \n",
      "2  https://support-appleld.com.secureupdate.duila...       1   \n",
      "3                                 http://rgipt.ac.in       0   \n",
      "4  http://www.iracing.com/tracks/gateway-motorspo...       0   \n",
      "\n",
      "                                              domain  url_length  \\\n",
      "0                                www.crestonwood.com          37   \n",
      "1                            shadetreetechnology.com          77   \n",
      "2  support-appleld.com.secureupdate.duilawyeryork...         126   \n",
      "3                                        rgipt.ac.in          18   \n",
      "4                                    www.iracing.com          55   \n",
      "\n",
      "   special_char_count  redirect_count  has_https  contains_suspicious_words  \\\n",
      "0                   7               0      False                      False   \n",
      "1                   7               0      False                      False   \n",
      "2                  19               0       True                       True   \n",
      "3                   5               0      False                      False   \n",
      "4                  10               0      False                      False   \n",
      "\n",
      "   directory_count  repeated_char_count  contains_at_symbol  \\\n",
      "0                3                    1               False   \n",
      "1                5                    1               False   \n",
      "2                5                    0               False   \n",
      "3                2                    0               False   \n",
      "4                5                    1               False   \n",
      "\n",
      "   query_param_count  subdomain_count  has_ip  uses_shortener  domain_entropy  \\\n",
      "0                  0                2   False           False        3.195296   \n",
      "1                  0                1   False           False        3.708132   \n",
      "2                  3                4   False           False        3.999080   \n",
      "3                  0                2   False           False        3.095795   \n",
      "4                  0                2   False           False        3.189898   \n",
      "\n",
      "   relative_entropy  \n",
      "0          2.356600  \n",
      "1          1.011080  \n",
      "2          1.162974  \n",
      "3          2.830277  \n",
      "4          2.733523  \n"
     ]
    }
   ],
   "source": [
    "# Realice las modificaciones necesarias para convertir la variable categórica status a una variable binaria.\n",
    "\n",
    "df_features = df.copy()\n",
    "df_features['status'] = df['status'].apply(lambda x: 1 if x == 'phishing' else 0)\n",
    "\n",
    "# Agregar las características adicionales al dataset\n",
    "\n",
    "def extract_domain(url):\n",
    "    parsed_url = urllib.parse.urlparse(url)\n",
    "    return parsed_url.netloc\n",
    "\n",
    "df_features[\"domain\"] = df[\"url\"].apply(extract_domain)\n",
    "\n",
    "# Características que usan la URL completa\n",
    "\n",
    "df_features[\"url_length\"] = df_features[\"url\"].apply(url_length)\n",
    "df_features[\"special_char_count\"] = df_features[\"url\"].apply(count_special_chars)\n",
    "df_features[\"redirect_count\"] = df_features[\"url\"].apply(count_redirects)\n",
    "df_features[\"has_https\"] = df_features[\"url\"].apply(has_https)\n",
    "df_features[\"contains_suspicious_words\"] = df_features[\"url\"].apply(contains_suspicious_words)\n",
    "df_features[\"directory_count\"] = df_features[\"url\"].apply(count_directories)\n",
    "df_features[\"repeated_char_count\"] = df_features[\"url\"].apply(count_repeated_chars)\n",
    "df_features[\"contains_at_symbol\"] = df_features[\"url\"].apply(contains_at_symbol)\n",
    "df_features[\"query_param_count\"] = df_features[\"url\"].apply(count_query_params)\n",
    "\n",
    "# Características que usan el dominio\n",
    "df_features[\"subdomain_count\"] = df_features[\"domain\"].apply(count_subdomains)\n",
    "df_features[\"has_ip\"] = df_features[\"domain\"].apply(has_ip_address)\n",
    "df_features[\"uses_shortener\"] = df_features[\"domain\"].apply(uses_shortener)\n",
    "df_features[\"domain_entropy\"] = df_features[\"domain\"].apply(shannon_entropy)\n",
    "df_features[\"relative_entropy\"] = df_features[\"domain\"].apply(relative_entropy)\n",
    "\n",
    "print(df_features['status'].value_counts())\n",
    "print(df_features.head(5))"
   ]
  },
  {
   "cell_type": "code",
   "execution_count": 67,
   "metadata": {},
   "outputs": [
    {
     "data": {
      "text/plain": [
       "url       0\n",
       "status    0\n",
       "dtype: int64"
      ]
     },
     "execution_count": 67,
     "metadata": {},
     "output_type": "execute_result"
    }
   ],
   "source": [
    "# Contar la cantidad de valores nulos en cada columna\n",
    "df.isnull().sum()"
   ]
  },
  {
   "cell_type": "markdown",
   "metadata": {},
   "source": [
    "### Selección de características"
   ]
  }
 ],
 "metadata": {
  "kernelspec": {
   "display_name": "Python 3",
   "language": "python",
   "name": "python3"
  },
  "language_info": {
   "codemirror_mode": {
    "name": "ipython",
    "version": 3
   },
   "file_extension": ".py",
   "mimetype": "text/x-python",
   "name": "python",
   "nbconvert_exporter": "python",
   "pygments_lexer": "ipython3",
   "version": "3.11.7"
  }
 },
 "nbformat": 4,
 "nbformat_minor": 2
}
